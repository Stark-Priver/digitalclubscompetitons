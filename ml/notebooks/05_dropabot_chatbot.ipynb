{
 "cells": [
  {
   "cell_type": "markdown",
   "id": "941c183c",
   "metadata": {},
   "source": [
    "# DropaBot RAG Chatbot Workflow\n",
    "\n",
    "This notebook builds a professional Retrieval-Augmented Generation (RAG) chatbot for delivery analytics using HuggingFace, FAISS, and Mistral API.\n",
    "\n",
    "\n",
    "1. Import Required Libraries\n",
    "2. Load and Prepare Delivery Data & FAQs\n",
    "3. Generate Embeddings with SentenceTransformers\n",
    "4. Build FAISS Vector Store\n",
    "5. Query with Mistral LLM API\n",
    "6. Demonstrate Sample Analytics Queries\n"
   ]
  },
  {
   "cell_type": "code",
   "execution_count": 1,
   "id": "8367897b",
   "metadata": {},
   "outputs": [],
   "source": [
    "# Import Required Libraries\n",
    "import pandas as pd\n",
    "import numpy as np\n",
    "from sentence_transformers import SentenceTransformer\n",
    "import faiss\n",
    "import requests"
   ]
  },
  {
   "cell_type": "code",
   "execution_count": 2,
   "id": "92e62b44",
   "metadata": {},
   "outputs": [],
   "source": [
    "# Load Delivery Data & Sample FAQs/Logs\n",
    "import sys, os\n",
    "sys.path.append(os.path.abspath(\"../src\"))\n",
    "from data_loader import load_delivery_data\n",
    "df = load_delivery_data()\n",
    "faqs = [\n",
    "    \"Which city has the highest delays?\",\n",
    "    \"How many deliveries failed last week?\",\n",
    "    \"Show me fastest couriers in Tanzania\",\n",
    "    \"What is the average delivery time in Dar es Salaam?\",\n",
    "    \"List all anomalies detected yesterday.\",\n",
    "    \"Who are the top 3 couriers by speed?\"\n",
    " ]"
   ]
  },
  {
   "cell_type": "code",
   "execution_count": 3,
   "id": "805009a8",
   "metadata": {},
   "outputs": [
    {
     "data": {
      "application/vnd.jupyter.widget-view+json": {
       "model_id": "56d029f58e514fb582b0e6ff995925cf",
       "version_major": 2,
       "version_minor": 0
      },
      "text/plain": [
       "modules.json:   0%|          | 0.00/349 [00:00<?, ?B/s]"
      ]
     },
     "metadata": {},
     "output_type": "display_data"
    },
    {
     "data": {
      "application/vnd.jupyter.widget-view+json": {
       "model_id": "0bf511ca526940a88be2834dc11ab82e",
       "version_major": 2,
       "version_minor": 0
      },
      "text/plain": [
       "config_sentence_transformers.json:   0%|          | 0.00/116 [00:00<?, ?B/s]"
      ]
     },
     "metadata": {},
     "output_type": "display_data"
    },
    {
     "data": {
      "application/vnd.jupyter.widget-view+json": {
       "model_id": "fa2f56a8934442c79cca71cd41b0830c",
       "version_major": 2,
       "version_minor": 0
      },
      "text/plain": [
       "README.md: 0.00B [00:00, ?B/s]"
      ]
     },
     "metadata": {},
     "output_type": "display_data"
    },
    {
     "data": {
      "application/vnd.jupyter.widget-view+json": {
       "model_id": "3b1ed6f9c54a47f39a05fd2891cca413",
       "version_major": 2,
       "version_minor": 0
      },
      "text/plain": [
       "sentence_bert_config.json:   0%|          | 0.00/53.0 [00:00<?, ?B/s]"
      ]
     },
     "metadata": {},
     "output_type": "display_data"
    },
    {
     "data": {
      "application/vnd.jupyter.widget-view+json": {
       "model_id": "2e5dbfe0e0ed494a8f89064513a67fea",
       "version_major": 2,
       "version_minor": 0
      },
      "text/plain": [
       "config.json:   0%|          | 0.00/612 [00:00<?, ?B/s]"
      ]
     },
     "metadata": {},
     "output_type": "display_data"
    },
    {
     "name": "stderr",
     "output_type": "stream",
     "text": [
      "Xet Storage is enabled for this repo, but the 'hf_xet' package is not installed. Falling back to regular HTTP download. For better performance, install the package with: `pip install huggingface_hub[hf_xet]` or `pip install hf_xet`\n"
     ]
    },
    {
     "data": {
      "application/vnd.jupyter.widget-view+json": {
       "model_id": "c5f15c8fa6fa404590e01fdd71dd9517",
       "version_major": 2,
       "version_minor": 0
      },
      "text/plain": [
       "model.safetensors:   0%|          | 0.00/90.9M [00:00<?, ?B/s]"
      ]
     },
     "metadata": {},
     "output_type": "display_data"
    },
    {
     "data": {
      "application/vnd.jupyter.widget-view+json": {
       "model_id": "927d560c99a647fdaf127fe7297e1bfa",
       "version_major": 2,
       "version_minor": 0
      },
      "text/plain": [
       "tokenizer_config.json:   0%|          | 0.00/350 [00:00<?, ?B/s]"
      ]
     },
     "metadata": {},
     "output_type": "display_data"
    },
    {
     "data": {
      "application/vnd.jupyter.widget-view+json": {
       "model_id": "1d0493b4db244dd58c984815b60f62db",
       "version_major": 2,
       "version_minor": 0
      },
      "text/plain": [
       "vocab.txt: 0.00B [00:00, ?B/s]"
      ]
     },
     "metadata": {},
     "output_type": "display_data"
    },
    {
     "data": {
      "application/vnd.jupyter.widget-view+json": {
       "model_id": "cfe65a50553545139b51449d3280027c",
       "version_major": 2,
       "version_minor": 0
      },
      "text/plain": [
       "tokenizer.json: 0.00B [00:00, ?B/s]"
      ]
     },
     "metadata": {},
     "output_type": "display_data"
    },
    {
     "data": {
      "application/vnd.jupyter.widget-view+json": {
       "model_id": "86e9cf8a16b947b39a1c4b4c44aa94cb",
       "version_major": 2,
       "version_minor": 0
      },
      "text/plain": [
       "special_tokens_map.json:   0%|          | 0.00/112 [00:00<?, ?B/s]"
      ]
     },
     "metadata": {},
     "output_type": "display_data"
    },
    {
     "data": {
      "application/vnd.jupyter.widget-view+json": {
       "model_id": "56e1ab3356bf49ca8c30bac7e3c032e8",
       "version_major": 2,
       "version_minor": 0
      },
      "text/plain": [
       "config.json:   0%|          | 0.00/190 [00:00<?, ?B/s]"
      ]
     },
     "metadata": {},
     "output_type": "display_data"
    }
   ],
   "source": [
    "# Generate Embeddings with SentenceTransformers\n",
    "model = SentenceTransformer('all-MiniLM-L6-v2')\n",
    "faq_embeddings = model.encode(faqs)"
   ]
  },
  {
   "cell_type": "code",
   "execution_count": 4,
   "id": "d5fb5aa1",
   "metadata": {},
   "outputs": [],
   "source": [
    "# Build FAISS Vector Store\n",
    "dimension = faq_embeddings.shape[1]\n",
    "index = faiss.IndexFlatL2(dimension)\n",
    "index.add(faq_embeddings)"
   ]
  },
  {
   "cell_type": "code",
   "execution_count": 5,
   "id": "2f544f33",
   "metadata": {},
   "outputs": [],
   "source": [
    "# Query with Mistral LLM API\n",
    "def dropabot_query(user_query, mistral_api_key):\n",
    "    query_embedding = model.encode([user_query])\n",
    "    D, I = index.search(query_embedding, k=1)\n",
    "    retrieved_faq = faqs[I[0][0]]\n",
    "    prompt = f\"Context: {retrieved_faq}\\nUser: {user_query}\\nAnswer: \"\n",
    "    response = requests.post(\n",
    "        \"https://api.mistral.ai/v1/chat/completions\",\n",
    "        headers={\"Authorization\": f\"Bearer {mistral_api_key}\"},\n",
    "        json={\n",
    "            \"model\": \"mistral-tiny\",\n",
    "            \"messages\": [{\"role\": \"user\", \"content\": prompt}],\n",
    "            \"temperature\": 0.7\n",
    "        }\n",
    "    )\n",
    "    if response.status_code == 200:\n",
    "        return response.json()['choices'][0]['message']['content']\n",
    "    else:\n",
    "        return f\"Error: {response.status_code} - {response.text}\""
   ]
  },
  {
   "cell_type": "code",
   "execution_count": 6,
   "id": "08c1d21b",
   "metadata": {},
   "outputs": [
    {
     "name": "stdout",
     "output_type": "stream",
     "text": [
      "User Query: Which city has the highest delays?\n",
      "DropaBot Response: The question does not provide a specific context regarding the type of delays being referred to. However, in terms of traffic congestion, cities like Bangkok, Istanbul, Bogota, and Moscow have been ranked as having some of the highest levels of traffic congestion, resulting in significant delays for commuters. In terms of air travel delays, cities with major international airports such as Chicago, London, and New York often have a high number of delayed flights due to factors such as high volume of passengers, weather conditions, and airport infrastructure. To get the most accurate answer, it would be beneficial to have more context about the specific type of delays being referred to.\n",
      "----------------------------------------\n",
      "User Query: Show me fastest couriers in Tanzania\n",
      "DropaBot Response: The question does not provide a specific context regarding the type of delays being referred to. However, in terms of traffic congestion, cities like Bangkok, Istanbul, Bogota, and Moscow have been ranked as having some of the highest levels of traffic congestion, resulting in significant delays for commuters. In terms of air travel delays, cities with major international airports such as Chicago, London, and New York often have a high number of delayed flights due to factors such as high volume of passengers, weather conditions, and airport infrastructure. To get the most accurate answer, it would be beneficial to have more context about the specific type of delays being referred to.\n",
      "----------------------------------------\n",
      "User Query: Show me fastest couriers in Tanzania\n",
      "DropaBot Response: In Tanzania, some of the fastest and most reliable courier services include:\n",
      "\n",
      "1. DHL: Known for its global reach, DHL offers a wide range of courier services, including express shipping, time-definite international delivery, and document delivery.\n",
      "\n",
      "Website: https://www.dhl.com/tt/en/home.html\n",
      "\n",
      "2. FedEx: Offering a variety of shipping solutions, FedEx is another well-known international courier service with operations in Tanzania. Their services include express shipping, freight, and logistics solutions.\n",
      "\n",
      "Website: https://www.fedex.com/tz-english/home.html\n",
      "\n",
      "3. UPS: With a strong presence in Tanzania, UPS provides a comprehensive suite of shipping services, including express shipping, freight forwarding, and supply chain solutions.\n",
      "\n",
      "Website: https://www.ups.com/tz/en/home.page\n",
      "\n",
      "4. TNT Express: TNT Express offers a wide range of shipping solutions in Tanzania, including express delivery, freight forwarding, and logistics services.\n",
      "\n",
      "Website: https://www.tnt.com/tz/en/home.html\n",
      "\n",
      "5. EMS (Express Mail Service): EMS is a postal courier service, which is a part of the Universal Postal Union (UPU). EMS offers express delivery services in Tanzania and across the globe.\n",
      "\n",
      "Website: https://www.ems.post/tz/en/home\n",
      "\n",
      "6. Posta Tanzania: The national postal service of Tanzania, Posta Tanzania offers domestic and international courier services as well.\n",
      "\n",
      "Website: https://www.postatanzania.go.tz/\n",
      "----------------------------------------\n",
      "User Query: How many deliveries failed last week?\n",
      "DropaBot Response: In Tanzania, some of the fastest and most reliable courier services include:\n",
      "\n",
      "1. DHL: Known for its global reach, DHL offers a wide range of courier services, including express shipping, time-definite international delivery, and document delivery.\n",
      "\n",
      "Website: https://www.dhl.com/tt/en/home.html\n",
      "\n",
      "2. FedEx: Offering a variety of shipping solutions, FedEx is another well-known international courier service with operations in Tanzania. Their services include express shipping, freight, and logistics solutions.\n",
      "\n",
      "Website: https://www.fedex.com/tz-english/home.html\n",
      "\n",
      "3. UPS: With a strong presence in Tanzania, UPS provides a comprehensive suite of shipping services, including express shipping, freight forwarding, and supply chain solutions.\n",
      "\n",
      "Website: https://www.ups.com/tz/en/home.page\n",
      "\n",
      "4. TNT Express: TNT Express offers a wide range of shipping solutions in Tanzania, including express delivery, freight forwarding, and logistics services.\n",
      "\n",
      "Website: https://www.tnt.com/tz/en/home.html\n",
      "\n",
      "5. EMS (Express Mail Service): EMS is a postal courier service, which is a part of the Universal Postal Union (UPU). EMS offers express delivery services in Tanzania and across the globe.\n",
      "\n",
      "Website: https://www.ems.post/tz/en/home\n",
      "\n",
      "6. Posta Tanzania: The national postal service of Tanzania, Posta Tanzania offers domestic and international courier services as well.\n",
      "\n",
      "Website: https://www.postatanzania.go.tz/\n",
      "----------------------------------------\n",
      "User Query: How many deliveries failed last week?\n",
      "DropaBot Response: I don't have the specific data for deliveries last week. To get the accurate information, you would need to refer to the logs or records of the deliveries from the past week. I'm just an AI and don't have access to external databases or real-world databases.\n",
      "----------------------------------------\n",
      "DropaBot Response: I don't have the specific data for deliveries last week. To get the accurate information, you would need to refer to the logs or records of the deliveries from the past week. I'm just an AI and don't have access to external databases or real-world databases.\n",
      "----------------------------------------\n"
     ]
    }
   ],
   "source": [
    "# Demonstrate Sample DropaBot Queries\n",
    "mistral_api_key = \"5RD23U4Cu0SD5xmGzcVwxkIbYk07j2Cz\"\n",
    "sample_queries = [\n",
    "    \"Which city has the highest delays?\",\n",
    "    \"Show me fastest couriers in Tanzania\",\n",
    "    \"How many deliveries failed last week?\"\n",
    " ]\n",
    "for q in sample_queries:\n",
    "    print(f\"User Query: {q}\")\n",
    "    print(\"DropaBot Response:\", dropabot_query(q, mistral_api_key))\n",
    "    print(\"-\"*40)"
   ]
  },
  {
   "cell_type": "markdown",
   "id": "b0764038",
   "metadata": {},
   "source": [
    "# Productionizing DropaBot RAG Chatbot\n",
    "\n",
    "- Deploy the chatbot as a REST API using FastAPI or Flask\n",
    "- Secure the Mistral API key using environment variables\n",
    "- Add logging and error handling for robustness\n",
    "- Scale FAISS index for large datasets\n",
    "- Integrate with frontend (React) for user interaction\n",
    "- Monitor usage and performance\n"
   ]
  }
 ],
 "metadata": {
  "kernelspec": {
   "display_name": ".venv",
   "language": "python",
   "name": "python3"
  },
  "language_info": {
   "codemirror_mode": {
    "name": "ipython",
    "version": 3
   },
   "file_extension": ".py",
   "mimetype": "text/x-python",
   "name": "python",
   "nbconvert_exporter": "python",
   "pygments_lexer": "ipython3",
   "version": "3.13.6"
  }
 },
 "nbformat": 4,
 "nbformat_minor": 5
}
