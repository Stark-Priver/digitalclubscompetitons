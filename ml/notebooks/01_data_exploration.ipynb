{
 "cells": [
  {
   "cell_type": "markdown",
   "id": "db02fb08",
   "metadata": {},
   "source": [
    "# Data Exploration\n",
    "Explore delivery data for Dropa ML pipeline."
   ]
  },
  {
   "cell_type": "code",
   "execution_count": 1,
   "id": "4b2a88ad",
   "metadata": {},
   "outputs": [
    {
     "data": {
      "text/html": [
       "<div>\n",
       "<style scoped>\n",
       "    .dataframe tbody tr th:only-of-type {\n",
       "        vertical-align: middle;\n",
       "    }\n",
       "\n",
       "    .dataframe tbody tr th {\n",
       "        vertical-align: top;\n",
       "    }\n",
       "\n",
       "    .dataframe thead th {\n",
       "        text-align: right;\n",
       "    }\n",
       "</style>\n",
       "<table border=\"1\" class=\"dataframe\">\n",
       "  <thead>\n",
       "    <tr style=\"text-align: right;\">\n",
       "      <th></th>\n",
       "      <th>order_id</th>\n",
       "      <th>from_dipan_id</th>\n",
       "      <th>from_city_name</th>\n",
       "      <th>delivery_user_id</th>\n",
       "      <th>poi_lng</th>\n",
       "      <th>poi_lat</th>\n",
       "      <th>aoi_id</th>\n",
       "      <th>typecode</th>\n",
       "      <th>receipt_time</th>\n",
       "      <th>receipt_lng</th>\n",
       "      <th>receipt_lat</th>\n",
       "      <th>sign_time</th>\n",
       "      <th>sign_lng</th>\n",
       "      <th>sign_lat</th>\n",
       "      <th>ds</th>\n",
       "    </tr>\n",
       "  </thead>\n",
       "  <tbody>\n",
       "    <tr>\n",
       "      <th>0</th>\n",
       "      <td>687227b4d0c733049b16ccd566db6e01</td>\n",
       "      <td>08331170e24742ba7a3938f5b34ff24d</td>\n",
       "      <td>Mbeya</td>\n",
       "      <td>18ff78d2069125937a847fb701a9db6c</td>\n",
       "      <td>33.501712</td>\n",
       "      <td>-8.867390</td>\n",
       "      <td>e0581ca18e7ca371a9869e041cb09075</td>\n",
       "      <td>4602b38053ece07a9ca5153f1df2e404</td>\n",
       "      <td>03-18 13:35:00</td>\n",
       "      <td>35.738886</td>\n",
       "      <td>-6.175200</td>\n",
       "      <td>03-18 14:51:00</td>\n",
       "      <td>35.772387</td>\n",
       "      <td>-6.191757</td>\n",
       "      <td>318</td>\n",
       "    </tr>\n",
       "    <tr>\n",
       "      <th>1</th>\n",
       "      <td>55be8cdf1270526231c9ba3387f51b54</td>\n",
       "      <td>c5ac5ba99801aa6b85ba473d9260512b</td>\n",
       "      <td>Dar es Salaam</td>\n",
       "      <td>df0b594618d1ba6f619e4e7dd034447c</td>\n",
       "      <td>39.202811</td>\n",
       "      <td>-6.758018</td>\n",
       "      <td>9c0f96ff01a71477334ef563001abc72</td>\n",
       "      <td>203ac3454d75e02ebb0a3c6f51d735e4</td>\n",
       "      <td>03-18 08:32:00</td>\n",
       "      <td>36.683317</td>\n",
       "      <td>-3.403086</td>\n",
       "      <td>03-18 14:33:00</td>\n",
       "      <td>36.693977</td>\n",
       "      <td>-3.377285</td>\n",
       "      <td>318</td>\n",
       "    </tr>\n",
       "    <tr>\n",
       "      <th>2</th>\n",
       "      <td>ee46cae9ba2c002451af3c6fbcb49410</td>\n",
       "      <td>2129bfb99a2f6c11000c0ecbf1a5f3f6</td>\n",
       "      <td>Mwanza</td>\n",
       "      <td>05cceaaa5db96756294dd6d573fd865d</td>\n",
       "      <td>32.959725</td>\n",
       "      <td>-2.557876</td>\n",
       "      <td>4de9bf7f155046e7d0fd400672ab9cf3</td>\n",
       "      <td>203ac3454d75e02ebb0a3c6f51d735e4</td>\n",
       "      <td>03-18 13:02:00</td>\n",
       "      <td>36.649081</td>\n",
       "      <td>-3.363579</td>\n",
       "      <td>03-18 15:34:00</td>\n",
       "      <td>36.660932</td>\n",
       "      <td>-3.371450</td>\n",
       "      <td>318</td>\n",
       "    </tr>\n",
       "    <tr>\n",
       "      <th>3</th>\n",
       "      <td>38912be86c83138901b5e26398832be7</td>\n",
       "      <td>08331170e24742ba7a3938f5b34ff24d</td>\n",
       "      <td>Dar es Salaam</td>\n",
       "      <td>f29e97ef8398477abb72b852b16c91c0</td>\n",
       "      <td>39.198650</td>\n",
       "      <td>-6.825873</td>\n",
       "      <td>fe48cde9b33e2308641d985f8a701c7e</td>\n",
       "      <td>203ac3454d75e02ebb0a3c6f51d735e4</td>\n",
       "      <td>03-18 12:11:00</td>\n",
       "      <td>35.778454</td>\n",
       "      <td>-6.210589</td>\n",
       "      <td>03-18 14:08:00</td>\n",
       "      <td>35.777235</td>\n",
       "      <td>-6.204619</td>\n",
       "      <td>318</td>\n",
       "    </tr>\n",
       "    <tr>\n",
       "      <th>4</th>\n",
       "      <td>2b83e2ba16714fee357694964d0e7e41</td>\n",
       "      <td>4fe96250270c2e17a28016a5fba4bc4a</td>\n",
       "      <td>Arusha</td>\n",
       "      <td>1d00e6f2308aad233f0179aac63aa23d</td>\n",
       "      <td>36.714718</td>\n",
       "      <td>-3.370972</td>\n",
       "      <td>a7d4de5484ca867fe453976ba9fee424</td>\n",
       "      <td>4602b38053ece07a9ca5153f1df2e404</td>\n",
       "      <td>03-18 07:28:00</td>\n",
       "      <td>35.759836</td>\n",
       "      <td>-6.159013</td>\n",
       "      <td>03-20 12:40:00</td>\n",
       "      <td>35.748038</td>\n",
       "      <td>-6.176871</td>\n",
       "      <td>318</td>\n",
       "    </tr>\n",
       "  </tbody>\n",
       "</table>\n",
       "</div>"
      ],
      "text/plain": [
       "                           order_id                     from_dipan_id  \\\n",
       "0  687227b4d0c733049b16ccd566db6e01  08331170e24742ba7a3938f5b34ff24d   \n",
       "1  55be8cdf1270526231c9ba3387f51b54  c5ac5ba99801aa6b85ba473d9260512b   \n",
       "2  ee46cae9ba2c002451af3c6fbcb49410  2129bfb99a2f6c11000c0ecbf1a5f3f6   \n",
       "3  38912be86c83138901b5e26398832be7  08331170e24742ba7a3938f5b34ff24d   \n",
       "4  2b83e2ba16714fee357694964d0e7e41  4fe96250270c2e17a28016a5fba4bc4a   \n",
       "\n",
       "  from_city_name                  delivery_user_id    poi_lng   poi_lat  \\\n",
       "0          Mbeya  18ff78d2069125937a847fb701a9db6c  33.501712 -8.867390   \n",
       "1  Dar es Salaam  df0b594618d1ba6f619e4e7dd034447c  39.202811 -6.758018   \n",
       "2         Mwanza  05cceaaa5db96756294dd6d573fd865d  32.959725 -2.557876   \n",
       "3  Dar es Salaam  f29e97ef8398477abb72b852b16c91c0  39.198650 -6.825873   \n",
       "4         Arusha  1d00e6f2308aad233f0179aac63aa23d  36.714718 -3.370972   \n",
       "\n",
       "                             aoi_id                          typecode  \\\n",
       "0  e0581ca18e7ca371a9869e041cb09075  4602b38053ece07a9ca5153f1df2e404   \n",
       "1  9c0f96ff01a71477334ef563001abc72  203ac3454d75e02ebb0a3c6f51d735e4   \n",
       "2  4de9bf7f155046e7d0fd400672ab9cf3  203ac3454d75e02ebb0a3c6f51d735e4   \n",
       "3  fe48cde9b33e2308641d985f8a701c7e  203ac3454d75e02ebb0a3c6f51d735e4   \n",
       "4  a7d4de5484ca867fe453976ba9fee424  4602b38053ece07a9ca5153f1df2e404   \n",
       "\n",
       "     receipt_time  receipt_lng  receipt_lat       sign_time   sign_lng  \\\n",
       "0  03-18 13:35:00    35.738886    -6.175200  03-18 14:51:00  35.772387   \n",
       "1  03-18 08:32:00    36.683317    -3.403086  03-18 14:33:00  36.693977   \n",
       "2  03-18 13:02:00    36.649081    -3.363579  03-18 15:34:00  36.660932   \n",
       "3  03-18 12:11:00    35.778454    -6.210589  03-18 14:08:00  35.777235   \n",
       "4  03-18 07:28:00    35.759836    -6.159013  03-20 12:40:00  35.748038   \n",
       "\n",
       "   sign_lat   ds  \n",
       "0 -6.191757  318  \n",
       "1 -3.377285  318  \n",
       "2 -3.371450  318  \n",
       "3 -6.204619  318  \n",
       "4 -6.176871  318  "
      ]
     },
     "execution_count": 1,
     "metadata": {},
     "output_type": "execute_result"
    }
   ],
   "source": [
    "import sys\n",
    "sys.path.append('../src')\n",
    "from data_loader import load_delivery_data\n",
    "df = load_delivery_data()\n",
    "df.head()"
   ]
  },
  {
   "cell_type": "code",
   "execution_count": 2,
   "id": "36164139",
   "metadata": {},
   "outputs": [
    {
     "name": "stdout",
     "output_type": "stream",
     "text": [
      "<class 'pandas.core.frame.DataFrame'>\n",
      "RangeIndex: 472419 entries, 0 to 472418\n",
      "Data columns (total 15 columns):\n",
      " #   Column            Non-Null Count   Dtype  \n",
      "---  ------            --------------   -----  \n",
      " 0   order_id          472419 non-null  object \n",
      " 1   from_dipan_id     472419 non-null  object \n",
      " 2   from_city_name    472419 non-null  object \n",
      " 3   delivery_user_id  472419 non-null  object \n",
      " 4   poi_lng           472419 non-null  float64\n",
      " 5   poi_lat           472419 non-null  float64\n",
      " 6   aoi_id            472419 non-null  object \n",
      " 7   typecode          471059 non-null  object \n",
      " 8   receipt_time      472419 non-null  object \n",
      " 9   receipt_lng       472419 non-null  float64\n",
      " 10  receipt_lat       472419 non-null  float64\n",
      " 11  sign_time         472419 non-null  object \n",
      " 12  sign_lng          472419 non-null  float64\n",
      " 13  sign_lat          472419 non-null  float64\n",
      " 14  ds                472419 non-null  int64  \n",
      "dtypes: float64(6), int64(1), object(8)\n",
      "memory usage: 54.1+ MB\n"
     ]
    }
   ],
   "source": [
    "df.info()"
   ]
  },
  {
   "cell_type": "code",
   "execution_count": null,
   "id": "7f9165f9",
   "metadata": {},
   "outputs": [],
   "source": [
    "df.describe()"
   ]
  },
  {
   "cell_type": "code",
   "execution_count": 3,
   "id": "baa973ed",
   "metadata": {},
   "outputs": [
    {
     "data": {
      "image/png": "[encoded data removed]",
      "text/plain": [
       "<Figure size 640x480 with 1 Axes>"
      ]
     },
     "metadata": {},
     "output_type": "display_data"
    }
   ],
   "source": [
    "import matplotlib.pyplot as plt\n",
    "df['from_city_name'].value_counts().plot(kind='bar')\n",
    "plt.title('Deliveries per City')\n",
    "plt.show()"
   ]
  },
  {
   "cell_type": "markdown",
   "id": "c690b125",
   "metadata": {},
   "source": [
    "# Data Exploration Outline\n",
    "\n",
    "This notebook explores the delivery dataset in detail. Steps include:\n",
    "\n",
    "\n",
    "- Data loading and preview\n",
    "- Data types and missing values\n",
    "- Statistical summary\n",
    "- City-wise delivery analysis\n",
    "- Delivery time calculation and distribution\n",
    "- Geospatial visualization of delivery points\n",
    "- Correlation analysis\n",
    "- Insights and next steps\n"
   ]
  },
  {
   "cell_type": "code",
   "execution_count": 4,
   "id": "dfc809df",
   "metadata": {},
   "outputs": [
    {
     "name": "stdout",
     "output_type": "stream",
     "text": [
      "<class 'pandas.core.frame.DataFrame'>\n",
      "RangeIndex: 472419 entries, 0 to 472418\n",
      "Data columns (total 15 columns):\n",
      " #   Column            Non-Null Count   Dtype  \n",
      "---  ------            --------------   -----  \n",
      " 0   order_id          472419 non-null  object \n",
      " 1   from_dipan_id     472419 non-null  object \n",
      " 2   from_city_name    472419 non-null  object \n",
      " 3   delivery_user_id  472419 non-null  object \n",
      " 4   poi_lng           472419 non-null  float64\n",
      " 5   poi_lat           472419 non-null  float64\n",
      " 6   aoi_id            472419 non-null  object \n",
      " 7   typecode          471059 non-null  object \n",
      " 8   receipt_time      472419 non-null  object \n",
      " 9   receipt_lng       472419 non-null  float64\n",
      " 10  receipt_lat       472419 non-null  float64\n",
      " 11  sign_time         472419 non-null  object \n",
      " 12  sign_lng          472419 non-null  float64\n",
      " 13  sign_lat          472419 non-null  float64\n",
      " 14  ds                472419 non-null  int64  \n",
      "dtypes: float64(6), int64(1), object(8)\n",
      "memory usage: 54.1+ MB\n"
     ]
    },
    {
     "data": {
      "text/plain": [
       "order_id               0\n",
       "from_dipan_id          0\n",
       "from_city_name         0\n",
       "delivery_user_id       0\n",
       "poi_lng                0\n",
       "poi_lat                0\n",
       "aoi_id                 0\n",
       "typecode            1360\n",
       "receipt_time           0\n",
       "receipt_lng            0\n",
       "receipt_lat            0\n",
       "sign_time              0\n",
       "sign_lng               0\n",
       "sign_lat               0\n",
       "ds                     0\n",
       "dtype: int64"
      ]
     },
     "execution_count": 4,
     "metadata": {},
     "output_type": "execute_result"
    }
   ],
   "source": [
    "# Check for missing values and data types\n",
    "df.info()\n",
    "df.isnull().sum()"
   ]
  },
  {
   "cell_type": "code",
   "execution_count": 6,
   "id": "ee748913",
   "metadata": {},
   "outputs": [
    {
     "data": {
      "image/png": "[encoded data removed]",
      "text/plain": [
       "<Figure size 800x500 with 1 Axes>"
      ]
     },
     "metadata": {},
     "output_type": "display_data"
    }
   ],
   "source": [
    "# Calculate delivery time (in minutes) and visualize distribution\n",
    "import numpy as np\n",
    "import pandas as pd \n",
    "df['receipt_time'] = pd.to_datetime(df['receipt_time'], format='%m-%d %H:%M:%S')\n",
    "df['sign_time'] = pd.to_datetime(df['sign_time'], format='%m-%d %H:%M:%S')\n",
    "df['delivery_minutes'] = (df['sign_time'] - df['receipt_time']).dt.total_seconds() / 60\n",
    "plt.figure(figsize=(8,5))\n",
    "df['delivery_minutes'].hist(bins=30)\n",
    "plt.title('Delivery Time Distribution (minutes)')\n",
    "plt.xlabel('Minutes')\n",
    "plt.ylabel('Frequency')\n",
    "plt.show()"
   ]
  },
  {
   "cell_type": "code",
   "execution_count": 7,
   "id": "2413c3c8",
   "metadata": {},
   "outputs": [
    {
     "data": {
      "text/html": [
       "<div>\n",
       "<style scoped>\n",
       "    .dataframe tbody tr th:only-of-type {\n",
       "        vertical-align: middle;\n",
       "    }\n",
       "\n",
       "    .dataframe tbody tr th {\n",
       "        vertical-align: top;\n",
       "    }\n",
       "\n",
       "    .dataframe thead th {\n",
       "        text-align: right;\n",
       "    }\n",
       "</style>\n",
       "<table border=\"1\" class=\"dataframe\">\n",
       "  <thead>\n",
       "    <tr style=\"text-align: right;\">\n",
       "      <th></th>\n",
       "      <th>count</th>\n",
       "      <th>mean</th>\n",
       "      <th>std</th>\n",
       "      <th>min</th>\n",
       "      <th>max</th>\n",
       "    </tr>\n",
       "    <tr>\n",
       "      <th>from_city_name</th>\n",
       "      <th></th>\n",
       "      <th></th>\n",
       "      <th></th>\n",
       "      <th></th>\n",
       "      <th></th>\n",
       "    </tr>\n",
       "  </thead>\n",
       "  <tbody>\n",
       "    <tr>\n",
       "      <th>Arusha</th>\n",
       "      <td>94322</td>\n",
       "      <td>173.852802</td>\n",
       "      <td>507.647918</td>\n",
       "      <td>-21417.0</td>\n",
       "      <td>26569.0</td>\n",
       "    </tr>\n",
       "    <tr>\n",
       "      <th>Dar es Salaam</th>\n",
       "      <td>94859</td>\n",
       "      <td>173.533624</td>\n",
       "      <td>507.294527</td>\n",
       "      <td>-11460.0</td>\n",
       "      <td>27655.0</td>\n",
       "    </tr>\n",
       "    <tr>\n",
       "      <th>Dodoma</th>\n",
       "      <td>94292</td>\n",
       "      <td>178.789812</td>\n",
       "      <td>546.693699</td>\n",
       "      <td>-17014.0</td>\n",
       "      <td>31830.0</td>\n",
       "    </tr>\n",
       "    <tr>\n",
       "      <th>Mbeya</th>\n",
       "      <td>94401</td>\n",
       "      <td>175.210379</td>\n",
       "      <td>518.673785</td>\n",
       "      <td>-21494.0</td>\n",
       "      <td>24931.0</td>\n",
       "    </tr>\n",
       "    <tr>\n",
       "      <th>Mwanza</th>\n",
       "      <td>94545</td>\n",
       "      <td>177.416839</td>\n",
       "      <td>520.861056</td>\n",
       "      <td>-11908.0</td>\n",
       "      <td>29285.0</td>\n",
       "    </tr>\n",
       "  </tbody>\n",
       "</table>\n",
       "</div>"
      ],
      "text/plain": [
       "                count        mean         std      min      max\n",
       "from_city_name                                                 \n",
       "Arusha          94322  173.852802  507.647918 -21417.0  26569.0\n",
       "Dar es Salaam   94859  173.533624  507.294527 -11460.0  27655.0\n",
       "Dodoma          94292  178.789812  546.693699 -17014.0  31830.0\n",
       "Mbeya           94401  175.210379  518.673785 -21494.0  24931.0\n",
       "Mwanza          94545  177.416839  520.861056 -11908.0  29285.0"
      ]
     },
     "execution_count": 7,
     "metadata": {},
     "output_type": "execute_result"
    }
   ],
   "source": [
    "# City-wise delivery time analysis\n",
    "city_stats = df.groupby('from_city_name')['delivery_minutes'].agg(['count','mean','std','min','max'])\n",
    "city_stats"
   ]
  },
  {
   "cell_type": "code",
   "execution_count": 8,
   "id": "d4dac230",
   "metadata": {},
   "outputs": [
    {
     "name": "stderr",
     "output_type": "stream",
     "text": [
      "c:\\Users\\PRIVER\\PROJECTS\\digitalclubscompetitons\\.venv\\Lib\\site-packages\\IPython\\core\\pylabtools.py:170: UserWarning: Creating legend with loc=\"best\" can be slow with large amounts of data.\n",
      "  fig.canvas.print_figure(bytes_io, **kw)\n"
     ]
    },
    {
     "data": {
      "image/png": "[encoded data removed]",
      "text/plain": [
       "<Figure size 800x600 with 1 Axes>"
      ]
     },
     "metadata": {},
     "output_type": "display_data"
    }
   ],
   "source": [
    "# Geospatial visualization of delivery start and end points\n",
    "plt.figure(figsize=(8,6))\n",
    "plt.scatter(df['poi_lng'], df['poi_lat'], c='blue', alpha=0.5, label='Start')\n",
    "plt.scatter(df['sign_lng'], df['sign_lat'], c='red', alpha=0.5, label='End')\n",
    "plt.xlabel('Longitude')\n",
    "plt.ylabel('Latitude')\n",
    "plt.title('Delivery Start (blue) and End (red) Points')\n",
    "plt.legend()\n",
    "plt.show()"
   ]
  },
  {
   "cell_type": "code",
   "execution_count": 9,
   "id": "794f78e6",
   "metadata": {},
   "outputs": [
    {
     "name": "stdout",
     "output_type": "stream",
     "text": [
      "Key Insights:\n",
      "- Delivery time varies by city and route.\n",
      "- Geospatial data shows delivery spread.\n",
      "- Correlation analysis helps feature selection for ML.\n"
     ]
    }
   ],
   "source": [
    "# Correlation analysis and insights summary\n",
    "corr = df.corr(numeric_only=True)\n",
    "corr['delivery_minutes'].sort_values(ascending=False)\n",
    "print('Key Insights:')\n",
    "print('- Delivery time varies by city and route.')\n",
    "print('- Geospatial data shows delivery spread.')\n",
    "print('- Correlation analysis helps feature selection for ML.')"
   ]
  },
  {
   "cell_type": "code",
   "execution_count": null,
   "id": "7352bf01",
   "metadata": {},
   "outputs": [],
   "source": []
  }
 ],
 "metadata": {
  "kernelspec": {
   "display_name": ".venv",
   "language": "python",
   "name": "python3"
  },
  "language_info": {
   "codemirror_mode": {
    "name": "ipython",
    "version": 3
   },
   "file_extension": ".py",
   "mimetype": "text/x-python",
   "name": "python",
   "nbconvert_exporter": "python",
   "pygments_lexer": "ipython3",
   "version": "3.13.6"
  }
 },
 "nbformat": 4,
 "nbformat_minor": 5
}
